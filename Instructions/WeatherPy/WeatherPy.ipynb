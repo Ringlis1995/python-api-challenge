{
 "cells": [
  {
   "cell_type": "markdown",
   "metadata": {},
   "source": [
    "# WeatherPy\n",
    "----\n",
    "\n",
    "#### Note\n",
    "* Instructions have been included for each segment. You do not have to follow them exactly, but they are included to help you think through the steps."
   ]
  },
  {
   "cell_type": "markdown",
   "metadata": {},
   "source": [
    "1: There is a moderate correlation between latitude and max temperatures in the Southern Hemisphere. This means that as the latitude increases, the max temperature slightly increases as well. \n",
    "\n",
    "2: Latitude does not influence the humidity in both the Northern and Southern Hemispheres.  Generally, humidity increases as temperatures increase, so there should be a greater correlation if a linear regression was performed for max temperatures versus humidity. \n",
    "\n",
    "3: Wind speed is also not greatly affected by latitude, with there being little to no correlation in both the Northern and Southern Hemispheres. A potential analysis could be run to see how coastal city wind speeds compare to cities with the same latitude that are further inland, to see if being closer to the ocean has a stronger affect on wind speed.  "
   ]
  },
  {
   "cell_type": "code",
   "execution_count": 2,
   "metadata": {
    "scrolled": true
   },
   "outputs": [],
   "source": [
    "# Dependencies and Setup\n",
    "import matplotlib.pyplot as plt\n",
    "import pandas as pd\n",
    "import numpy as np\n",
    "import requests\n",
    "import time\n",
    "from scipy.stats import linregress\n",
    "\n",
    "# Import API key\n",
    "from api_keys import weather_api_key\n",
    "\n",
    "# Incorporated citipy to determine city based on latitude and longitude\n",
    "from citipy import citipy\n",
    "\n",
    "# Output File (CSV)\n",
    "output_data_file = \"output_data/cities.csv\"\n",
    "\n",
    "# Range of latitudes and longitudes\n",
    "lat_range = (-90, 90)\n",
    "lng_range = (-180, 180)"
   ]
  },
  {
   "cell_type": "markdown",
   "metadata": {},
   "source": [
    "## Generate Cities List"
   ]
  },
  {
   "cell_type": "code",
   "execution_count": 3,
   "metadata": {},
   "outputs": [
    {
     "data": {
      "text/plain": [
       "607"
      ]
     },
     "execution_count": 3,
     "metadata": {},
     "output_type": "execute_result"
    }
   ],
   "source": [
    "# List for holding lat_lngs and cities\n",
    "lat_lngs = []\n",
    "cities = []\n",
    "\n",
    "# Create a set of random lat and lng combinations\n",
    "lats = np.random.uniform(lat_range[0], lat_range[1], size=1500)\n",
    "lngs = np.random.uniform(lng_range[0], lng_range[1], size=1500)\n",
    "lat_lngs = zip(lats, lngs)\n",
    "\n",
    "# Identify nearest city for each lat, lng combination\n",
    "for lat_lng in lat_lngs:\n",
    "    city = citipy.nearest_city(lat_lng[0], lat_lng[1]).city_name\n",
    "    \n",
    "    # If the city is unique, then add it to a our cities list\n",
    "    if city not in cities:\n",
    "        cities.append(city)\n",
    "\n",
    "# Print the city count to confirm sufficient count\n",
    "len(cities)"
   ]
  },
  {
   "cell_type": "code",
   "execution_count": 4,
   "metadata": {},
   "outputs": [],
   "source": [
    "city_list = []\n",
    "lat_list = []\n",
    "lng_list = []\n",
    "max_temp_list = []\n",
    "humidity_list = []\n",
    "cloudiness_list = []\n",
    "wind_speed_list = []\n",
    "country_list = []\n",
    "date_list = []\n",
    "\n",
    "index_counter = 1\n",
    "set_counter = 1"
   ]
  },
  {
   "cell_type": "code",
   "execution_count": 5,
   "metadata": {},
   "outputs": [
    {
     "name": "stdout",
     "output_type": "stream",
     "text": [
      "Beginning Data Retrieval\n",
      "--------------------------\n",
      "Processing Record 1 of Set 1 : punta arenas\n",
      "City not found. Skipping...\n",
      "Processing Record 2 of Set 1 : rikitea\n",
      "City not found. Skipping...\n",
      "Processing Record 3 of Set 1 : bonfim\n",
      "City not found. Skipping...\n",
      "Processing Record 4 of Set 1 : ushuaia\n",
      "City not found. Skipping...\n",
      "Processing Record 5 of Set 1 : bengkulu\n",
      "City not found. Skipping...\n",
      "Processing Record 6 of Set 1 : tuktoyaktuk\n",
      "City not found. Skipping...\n",
      "Processing Record 7 of Set 1 : yellowknife\n",
      "City not found. Skipping...\n",
      "Processing Record 8 of Set 1 : khatanga\n",
      "City not found. Skipping...\n",
      "Processing Record 9 of Set 1 : vaini\n",
      "City not found. Skipping...\n",
      "Processing Record 10 of Set 1 : ilulissat\n",
      "City not found. Skipping...\n",
      "Processing Record 11 of Set 1 : port-gentil\n",
      "City not found. Skipping...\n",
      "Processing Record 12 of Set 1 : esmeraldas\n",
      "City not found. Skipping...\n",
      "Processing Record 13 of Set 1 : georgetown\n",
      "City not found. Skipping...\n",
      "Processing Record 14 of Set 1 : oistins\n",
      "City not found. Skipping...\n",
      "Processing Record 15 of Set 1 : emerald\n",
      "City not found. Skipping...\n",
      "Processing Record 16 of Set 1 : thompson\n",
      "City not found. Skipping...\n",
      "Processing Record 17 of Set 1 : namatanai\n",
      "City not found. Skipping...\n",
      "Processing Record 18 of Set 1 : namibe\n",
      "City not found. Skipping...\n",
      "Processing Record 19 of Set 1 : illoqqortoormiut\n",
      "City not found. Skipping...\n",
      "Processing Record 20 of Set 1 : ponta do sol\n",
      "City not found. Skipping...\n",
      "Processing Record 21 of Set 1 : flin flon\n",
      "City not found. Skipping...\n",
      "Processing Record 22 of Set 1 : hovd\n",
      "City not found. Skipping...\n",
      "Processing Record 23 of Set 1 : vila velha\n",
      "City not found. Skipping...\n",
      "Processing Record 24 of Set 1 : margate\n",
      "City not found. Skipping...\n",
      "Processing Record 25 of Set 1 : chuy\n",
      "City not found. Skipping...\n",
      "Processing Record 26 of Set 1 : upernavik\n",
      "City not found. Skipping...\n",
      "Processing Record 27 of Set 1 : dikson\n",
      "City not found. Skipping...\n",
      "Processing Record 28 of Set 1 : kruisfontein\n",
      "City not found. Skipping...\n",
      "Processing Record 29 of Set 1 : naron\n",
      "City not found. Skipping...\n",
      "Processing Record 30 of Set 1 : mataura\n",
      "City not found. Skipping...\n",
      "Processing Record 31 of Set 1 : sao filipe\n",
      "City not found. Skipping...\n",
      "Processing Record 32 of Set 1 : mentok\n",
      "City not found. Skipping...\n",
      "Processing Record 33 of Set 1 : barao de melgaco\n",
      "City not found. Skipping...\n",
      "Processing Record 34 of Set 1 : jacmel\n",
      "City not found. Skipping...\n",
      "Processing Record 35 of Set 1 : tazovskiy\n",
      "City not found. Skipping...\n",
      "Processing Record 36 of Set 1 : horta\n",
      "City not found. Skipping...\n",
      "Processing Record 37 of Set 1 : port hedland\n",
      "City not found. Skipping...\n",
      "Processing Record 38 of Set 1 : butaritari\n",
      "City not found. Skipping...\n",
      "Processing Record 39 of Set 1 : lata\n",
      "City not found. Skipping...\n",
      "Processing Record 40 of Set 1 : rudsar\n",
      "City not found. Skipping...\n",
      "Processing Record 41 of Set 1 : port alfred\n",
      "City not found. Skipping...\n",
      "Processing Record 42 of Set 1 : albany\n",
      "City not found. Skipping...\n",
      "Processing Record 43 of Set 1 : hermanus\n",
      "City not found. Skipping...\n",
      "Processing Record 44 of Set 1 : coihaique\n",
      "City not found. Skipping...\n",
      "Processing Record 45 of Set 1 : barrow\n",
      "City not found. Skipping...\n",
      "Processing Record 46 of Set 1 : nizhneyansk\n",
      "City not found. Skipping...\n",
      "Processing Record 47 of Set 1 : sao fidelis\n",
      "City not found. Skipping...\n",
      "Processing Record 48 of Set 1 : ust-nera\n",
      "City not found. Skipping...\n",
      "Processing Record 49 of Set 1 : bluff\n",
      "City not found. Skipping...\n",
      "Processing Record 50 of Set 1 : yulara\n",
      "City not found. Skipping...\n",
      "Processing Record 1 of Set 2 : abalak\n",
      "City not found. Skipping...\n",
      "Processing Record 2 of Set 2 : vaitupu\n",
      "City not found. Skipping...\n",
      "Processing Record 3 of Set 2 : pucallpa\n",
      "City not found. Skipping...\n",
      "Processing Record 4 of Set 2 : srednekolymsk\n",
      "City not found. Skipping...\n",
      "Processing Record 5 of Set 2 : avarua\n",
      "City not found. Skipping...\n",
      "Processing Record 6 of Set 2 : taolanaro\n",
      "City not found. Skipping...\n",
      "Processing Record 7 of Set 2 : wagar\n",
      "City not found. Skipping...\n",
      "Processing Record 8 of Set 2 : scarborough\n",
      "City not found. Skipping...\n",
      "Processing Record 9 of Set 2 : vestmannaeyjar\n",
      "City not found. Skipping...\n",
      "Processing Record 10 of Set 2 : bubaque\n",
      "City not found. Skipping...\n",
      "Processing Record 11 of Set 2 : attawapiskat\n",
      "City not found. Skipping...\n",
      "Processing Record 12 of Set 2 : abaza\n",
      "City not found. Skipping...\n",
      "Processing Record 13 of Set 2 : hilo\n",
      "City not found. Skipping...\n",
      "Processing Record 14 of Set 2 : pilar\n",
      "City not found. Skipping...\n",
      "Processing Record 15 of Set 2 : tiksi\n",
      "City not found. Skipping...\n",
      "Processing Record 16 of Set 2 : busselton\n",
      "City not found. Skipping...\n",
      "Processing Record 17 of Set 2 : coolum beach\n",
      "City not found. Skipping...\n",
      "Processing Record 18 of Set 2 : mar del plata\n",
      "City not found. Skipping...\n",
      "Processing Record 19 of Set 2 : pangnirtung\n",
      "City not found. Skipping...\n",
      "Processing Record 20 of Set 2 : tucurui\n",
      "City not found. Skipping...\n",
      "Processing Record 21 of Set 2 : teahupoo\n",
      "City not found. Skipping...\n",
      "Processing Record 22 of Set 2 : awallan\n",
      "City not found. Skipping...\n",
      "Processing Record 23 of Set 2 : arraial do cabo\n",
      "City not found. Skipping...\n",
      "Processing Record 24 of Set 2 : almaznyy\n",
      "City not found. Skipping...\n",
      "Processing Record 25 of Set 2 : souillac\n",
      "City not found. Skipping...\n",
      "Processing Record 26 of Set 2 : hithadhoo\n",
      "City not found. Skipping...\n",
      "Processing Record 27 of Set 2 : bredasdorp\n",
      "City not found. Skipping...\n",
      "Processing Record 28 of Set 2 : mahebourg\n",
      "City not found. Skipping...\n",
      "Processing Record 29 of Set 2 : payson\n",
      "City not found. Skipping...\n",
      "Processing Record 30 of Set 2 : kaeo\n",
      "City not found. Skipping...\n",
      "Processing Record 31 of Set 2 : fukue\n",
      "City not found. Skipping...\n",
      "Processing Record 32 of Set 2 : high prairie\n",
      "City not found. Skipping...\n",
      "Processing Record 33 of Set 2 : gusau\n",
      "City not found. Skipping...\n",
      "Processing Record 34 of Set 2 : nacozari\n",
      "City not found. Skipping...\n",
      "Processing Record 35 of Set 2 : palmer\n",
      "City not found. Skipping...\n",
      "Processing Record 36 of Set 2 : borova\n",
      "City not found. Skipping...\n",
      "Processing Record 37 of Set 2 : kaitangata\n",
      "City not found. Skipping...\n",
      "Processing Record 38 of Set 2 : bethel\n",
      "City not found. Skipping...\n",
      "Processing Record 39 of Set 2 : basiad\n",
      "City not found. Skipping...\n",
      "Processing Record 40 of Set 2 : valdivia\n",
      "City not found. Skipping...\n",
      "Processing Record 41 of Set 2 : tasiilaq\n",
      "City not found. Skipping...\n",
      "Processing Record 42 of Set 2 : siyabuswa\n",
      "City not found. Skipping...\n",
      "Processing Record 43 of Set 2 : severo-kurilsk\n",
      "City not found. Skipping...\n",
      "Processing Record 44 of Set 2 : mkushi\n",
      "City not found. Skipping...\n",
      "Processing Record 45 of Set 2 : samusu\n",
      "City not found. Skipping...\n",
      "Processing Record 46 of Set 2 : aksu\n",
      "City not found. Skipping...\n",
      "Processing Record 47 of Set 2 : satitoa\n",
      "City not found. Skipping...\n",
      "Processing Record 48 of Set 2 : ugoofaaru\n",
      "City not found. Skipping...\n",
      "Processing Record 49 of Set 2 : saint-augustin\n",
      "City not found. Skipping...\n",
      "Processing Record 50 of Set 2 : provideniya\n",
      "City not found. Skipping...\n",
      "Processing Record 1 of Set 3 : new norfolk\n",
      "City not found. Skipping...\n",
      "Processing Record 2 of Set 3 : moyale\n",
      "City not found. Skipping...\n",
      "Processing Record 3 of Set 3 : barentsburg\n",
      "City not found. Skipping...\n",
      "Processing Record 4 of Set 3 : port blair\n",
      "City not found. Skipping...\n",
      "Processing Record 5 of Set 3 : jamestown\n",
      "City not found. Skipping...\n",
      "Processing Record 6 of Set 3 : grand gaube\n",
      "City not found. Skipping...\n",
      "Processing Record 7 of Set 3 : mrakovo\n",
      "City not found. Skipping...\n",
      "Processing Record 8 of Set 3 : kapaa\n",
      "City not found. Skipping...\n",
      "Processing Record 9 of Set 3 : reconquista\n",
      "City not found. Skipping...\n",
      "Processing Record 10 of Set 3 : touros\n",
      "City not found. Skipping...\n",
      "Processing Record 11 of Set 3 : east london\n",
      "City not found. Skipping...\n",
      "Processing Record 12 of Set 3 : birin\n",
      "City not found. Skipping...\n",
      "Processing Record 13 of Set 3 : cape town\n",
      "City not found. Skipping...\n",
      "Processing Record 14 of Set 3 : chokurdakh\n",
      "City not found. Skipping...\n",
      "Processing Record 15 of Set 3 : point pleasant\n",
      "City not found. Skipping...\n",
      "Processing Record 16 of Set 3 : nanortalik\n",
      "City not found. Skipping...\n",
      "Processing Record 17 of Set 3 : buala\n",
      "City not found. Skipping...\n",
      "Processing Record 18 of Set 3 : hobyo\n",
      "City not found. Skipping...\n"
     ]
    },
    {
     "name": "stdout",
     "output_type": "stream",
     "text": [
      "Processing Record 19 of Set 3 : wanning\n",
      "City not found. Skipping...\n",
      "Processing Record 20 of Set 3 : san cristobal\n",
      "City not found. Skipping...\n",
      "Processing Record 21 of Set 3 : hasaki\n",
      "City not found. Skipping...\n",
      "Processing Record 22 of Set 3 : gwadar\n",
      "City not found. Skipping...\n",
      "Processing Record 23 of Set 3 : praia\n",
      "City not found. Skipping...\n",
      "Processing Record 24 of Set 3 : poltavka\n",
      "City not found. Skipping...\n",
      "Processing Record 25 of Set 3 : lavrentiya\n",
      "City not found. Skipping...\n",
      "Processing Record 26 of Set 3 : chagda\n",
      "City not found. Skipping...\n",
      "Processing Record 27 of Set 3 : saskylakh\n",
      "City not found. Skipping...\n",
      "Processing Record 28 of Set 3 : chenzhou\n",
      "City not found. Skipping...\n",
      "Processing Record 29 of Set 3 : noumea\n",
      "City not found. Skipping...\n",
      "Processing Record 30 of Set 3 : alibag\n",
      "City not found. Skipping...\n",
      "Processing Record 31 of Set 3 : muzhi\n",
      "City not found. Skipping...\n",
      "Processing Record 32 of Set 3 : cassia\n",
      "City not found. Skipping...\n",
      "Processing Record 33 of Set 3 : haines junction\n",
      "City not found. Skipping...\n",
      "Processing Record 34 of Set 3 : sechura\n",
      "City not found. Skipping...\n",
      "Processing Record 35 of Set 3 : mozarlandia\n",
      "City not found. Skipping...\n",
      "Processing Record 36 of Set 3 : codrington\n",
      "City not found. Skipping...\n",
      "Processing Record 37 of Set 3 : boende\n",
      "City not found. Skipping...\n",
      "Processing Record 38 of Set 3 : oskarshamn\n",
      "City not found. Skipping...\n",
      "Processing Record 39 of Set 3 : victoria\n",
      "City not found. Skipping...\n",
      "Processing Record 40 of Set 3 : ibra\n",
      "City not found. Skipping...\n",
      "Processing Record 41 of Set 3 : hobart\n",
      "City not found. Skipping...\n",
      "Processing Record 42 of Set 3 : okhotsk\n",
      "City not found. Skipping...\n",
      "Processing Record 43 of Set 3 : bambous virieux\n",
      "City not found. Skipping...\n",
      "Processing Record 44 of Set 3 : fortuna\n",
      "City not found. Skipping...\n",
      "Processing Record 45 of Set 3 : kodiak\n",
      "City not found. Skipping...\n",
      "Processing Record 46 of Set 3 : kamyshin\n",
      "City not found. Skipping...\n",
      "Processing Record 47 of Set 3 : nefteyugansk\n",
      "City not found. Skipping...\n",
      "Processing Record 48 of Set 3 : san nicolas\n",
      "City not found. Skipping...\n",
      "Processing Record 49 of Set 3 : naze\n",
      "City not found. Skipping...\n",
      "Processing Record 50 of Set 3 : sentyabrskiy\n",
      "City not found. Skipping...\n",
      "Processing Record 1 of Set 4 : kavaratti\n",
      "City not found. Skipping...\n",
      "Processing Record 2 of Set 4 : gat\n",
      "City not found. Skipping...\n",
      "Processing Record 3 of Set 4 : henties bay\n",
      "City not found. Skipping...\n",
      "Processing Record 4 of Set 4 : tuy hoa\n",
      "City not found. Skipping...\n",
      "Processing Record 5 of Set 4 : lorengau\n",
      "City not found. Skipping...\n",
      "Processing Record 6 of Set 4 : port elizabeth\n",
      "City not found. Skipping...\n",
      "Processing Record 7 of Set 4 : iracoubo\n",
      "City not found. Skipping...\n",
      "Processing Record 8 of Set 4 : aklavik\n",
      "City not found. Skipping...\n",
      "Processing Record 9 of Set 4 : alice springs\n",
      "City not found. Skipping...\n",
      "Processing Record 10 of Set 4 : huarmey\n",
      "City not found. Skipping...\n",
      "Processing Record 11 of Set 4 : waipawa\n",
      "City not found. Skipping...\n",
      "Processing Record 12 of Set 4 : leeton\n",
      "City not found. Skipping...\n",
      "Processing Record 13 of Set 4 : saint-philippe\n",
      "City not found. Skipping...\n",
      "Processing Record 14 of Set 4 : yabrud\n",
      "City not found. Skipping...\n",
      "Processing Record 15 of Set 4 : zeya\n",
      "City not found. Skipping...\n",
      "Processing Record 16 of Set 4 : loreto\n",
      "City not found. Skipping...\n",
      "Processing Record 17 of Set 4 : hailar\n",
      "City not found. Skipping...\n",
      "Processing Record 18 of Set 4 : umm lajj\n",
      "City not found. Skipping...\n",
      "Processing Record 19 of Set 4 : kazalinsk\n",
      "City not found. Skipping...\n",
      "Processing Record 20 of Set 4 : shieli\n",
      "City not found. Skipping...\n",
      "Processing Record 21 of Set 4 : qaanaaq\n",
      "City not found. Skipping...\n",
      "Processing Record 22 of Set 4 : warah\n",
      "City not found. Skipping...\n",
      "Processing Record 23 of Set 4 : penzance\n",
      "City not found. Skipping...\n",
      "Processing Record 24 of Set 4 : laguna\n",
      "City not found. Skipping...\n",
      "Processing Record 25 of Set 4 : inta\n",
      "City not found. Skipping...\n",
      "Processing Record 26 of Set 4 : manadhoo\n",
      "City not found. Skipping...\n",
      "Processing Record 27 of Set 4 : faanui\n",
      "City not found. Skipping...\n",
      "Processing Record 28 of Set 4 : bathsheba\n",
      "City not found. Skipping...\n",
      "Processing Record 29 of Set 4 : kununurra\n",
      "City not found. Skipping...\n",
      "Processing Record 30 of Set 4 : syamzha\n",
      "City not found. Skipping...\n",
      "Processing Record 31 of Set 4 : nikolskoye\n",
      "City not found. Skipping...\n",
      "Processing Record 32 of Set 4 : meulaboh\n",
      "City not found. Skipping...\n",
      "Processing Record 33 of Set 4 : lermontovka\n",
      "City not found. Skipping...\n",
      "Processing Record 34 of Set 4 : belushya guba\n",
      "City not found. Skipping...\n",
      "Processing Record 35 of Set 4 : dudinka\n",
      "City not found. Skipping...\n",
      "Processing Record 36 of Set 4 : fallon\n",
      "City not found. Skipping...\n",
      "Processing Record 37 of Set 4 : san ramon\n",
      "City not found. Skipping...\n",
      "Processing Record 38 of Set 4 : port lincoln\n",
      "City not found. Skipping...\n",
      "Processing Record 39 of Set 4 : mangrol\n",
      "City not found. Skipping...\n",
      "Processing Record 40 of Set 4 : castro\n",
      "City not found. Skipping...\n",
      "Processing Record 41 of Set 4 : najran\n",
      "City not found. Skipping...\n",
      "Processing Record 42 of Set 4 : pevek\n",
      "City not found. Skipping...\n",
      "Processing Record 43 of Set 4 : astoria\n",
      "City not found. Skipping...\n",
      "Processing Record 44 of Set 4 : prince george\n",
      "City not found. Skipping...\n",
      "Processing Record 45 of Set 4 : labuhan\n",
      "City not found. Skipping...\n",
      "Processing Record 46 of Set 4 : san quintin\n",
      "City not found. Skipping...\n",
      "Processing Record 47 of Set 4 : quatre cocos\n",
      "Processing Record 48 of Set 4 : zlitan\n",
      "Processing Record 49 of Set 4 : lebu\n",
      "Processing Record 50 of Set 4 : lima\n",
      "Processing Record 1 of Set 5 : alyangula\n",
      "Processing Record 2 of Set 5 : camopi\n",
      "Processing Record 3 of Set 5 : morehead\n",
      "Processing Record 4 of Set 5 : teguise\n",
      "Processing Record 5 of Set 5 : sabha\n",
      "Processing Record 6 of Set 5 : liwale\n",
      "Processing Record 7 of Set 5 : scottsbluff\n",
      "Processing Record 8 of Set 5 : puerto ayora\n",
      "Processing Record 9 of Set 5 : yanan\n",
      "City not found. Skipping...\n",
      "Processing Record 10 of Set 5 : juneau\n",
      "Processing Record 11 of Set 5 : marienburg\n",
      "Processing Record 12 of Set 5 : ribeira grande\n",
      "Processing Record 13 of Set 5 : kenai\n",
      "Processing Record 14 of Set 5 : gezing\n",
      "Processing Record 15 of Set 5 : karakendzha\n",
      "City not found. Skipping...\n",
      "Processing Record 16 of Set 5 : toliary\n",
      "City not found. Skipping...\n",
      "Processing Record 17 of Set 5 : vangaindrano\n",
      "Processing Record 18 of Set 5 : santa isabel do rio negro\n",
      "Processing Record 19 of Set 5 : trairi\n",
      "Processing Record 20 of Set 5 : atuona\n",
      "Processing Record 21 of Set 5 : strezhevoy\n",
      "Processing Record 22 of Set 5 : great falls\n",
      "Processing Record 23 of Set 5 : taoudenni\n",
      "Processing Record 24 of Set 5 : beringovskiy\n",
      "Processing Record 25 of Set 5 : sitka\n",
      "Processing Record 26 of Set 5 : lagoa\n",
      "Processing Record 27 of Set 5 : jijiang\n",
      "Processing Record 28 of Set 5 : bato\n",
      "Processing Record 29 of Set 5 : santa vitoria do palmar\n",
      "Processing Record 30 of Set 5 : yuzhno-yeniseyskiy\n",
      "City not found. Skipping...\n",
      "Processing Record 31 of Set 5 : westport\n",
      "Processing Record 32 of Set 5 : galle\n",
      "Processing Record 33 of Set 5 : leningradskiy\n",
      "Processing Record 34 of Set 5 : amderma\n",
      "City not found. Skipping...\n",
      "Processing Record 35 of Set 5 : sampit\n",
      "Processing Record 36 of Set 5 : qarayeri\n",
      "Processing Record 37 of Set 5 : sept-iles\n",
      "Processing Record 38 of Set 5 : murgab\n",
      "Processing Record 39 of Set 5 : norman wells\n",
      "Processing Record 40 of Set 5 : flinders\n",
      "Processing Record 41 of Set 5 : carnarvon\n",
      "Processing Record 42 of Set 5 : salinas\n",
      "Processing Record 43 of Set 5 : bonavista\n",
      "Processing Record 44 of Set 5 : juba\n",
      "Processing Record 45 of Set 5 : pisco\n",
      "Processing Record 46 of Set 5 : kiruna\n",
      "Processing Record 47 of Set 5 : salo\n",
      "Processing Record 48 of Set 5 : kabanjahe\n",
      "Processing Record 49 of Set 5 : caravelas\n",
      "Processing Record 50 of Set 5 : guaranesia\n",
      "Processing Record 1 of Set 6 : tezu\n",
      "Processing Record 2 of Set 6 : kavieng\n",
      "Processing Record 3 of Set 6 : tupancireta\n",
      "Processing Record 4 of Set 6 : paamiut\n",
      "Processing Record 5 of Set 6 : tampin\n",
      "Processing Record 6 of Set 6 : elizabeth city\n",
      "Processing Record 7 of Set 6 : longyearbyen\n",
      "Processing Record 8 of Set 6 : kjollefjord\n",
      "Processing Record 9 of Set 6 : marcona\n",
      "City not found. Skipping...\n",
      "Processing Record 10 of Set 6 : kirakira\n",
      "Processing Record 11 of Set 6 : iturama\n"
     ]
    },
    {
     "name": "stdout",
     "output_type": "stream",
     "text": [
      "Processing Record 12 of Set 6 : santa cruz\n",
      "Processing Record 13 of Set 6 : saleaula\n",
      "City not found. Skipping...\n",
      "Processing Record 14 of Set 6 : belmonte\n",
      "Processing Record 15 of Set 6 : aykhal\n",
      "Processing Record 16 of Set 6 : olpad\n",
      "Processing Record 17 of Set 6 : dois vizinhos\n",
      "Processing Record 18 of Set 6 : dunedin\n",
      "Processing Record 19 of Set 6 : bolungarvik\n",
      "City not found. Skipping...\n",
      "Processing Record 20 of Set 6 : tabuk\n",
      "Processing Record 21 of Set 6 : ust-kut\n",
      "Processing Record 22 of Set 6 : anadyr\n",
      "Processing Record 23 of Set 6 : murupara\n",
      "Processing Record 24 of Set 6 : polunochnoye\n",
      "Processing Record 25 of Set 6 : suntar\n",
      "Processing Record 26 of Set 6 : narsingdi\n",
      "Processing Record 27 of Set 6 : niono\n",
      "Processing Record 28 of Set 6 : nabire\n",
      "Processing Record 29 of Set 6 : karpuninskiy\n",
      "City not found. Skipping...\n",
      "Processing Record 30 of Set 6 : okoneshnikovo\n",
      "Processing Record 31 of Set 6 : san vicente\n",
      "Processing Record 32 of Set 6 : laurel\n",
      "Processing Record 33 of Set 6 : qaqortoq\n",
      "Processing Record 34 of Set 6 : umzimvubu\n",
      "City not found. Skipping...\n",
      "Processing Record 35 of Set 6 : samarai\n",
      "Processing Record 36 of Set 6 : cap-haitien\n",
      "Processing Record 37 of Set 6 : lahij\n",
      "Processing Record 38 of Set 6 : saint anthony\n",
      "Processing Record 39 of Set 6 : vardo\n",
      "Processing Record 40 of Set 6 : mabaruma\n",
      "Processing Record 41 of Set 6 : maloy\n",
      "Processing Record 42 of Set 6 : susanville\n",
      "Processing Record 43 of Set 6 : bentiu\n",
      "Processing Record 44 of Set 6 : yeniseysk\n",
      "Processing Record 45 of Set 6 : tocache\n",
      "Processing Record 46 of Set 6 : sivas\n",
      "Processing Record 47 of Set 6 : saint george\n",
      "Processing Record 48 of Set 6 : torbay\n",
      "Processing Record 49 of Set 6 : san patricio\n",
      "Processing Record 50 of Set 6 : ilam\n",
      "Processing Record 1 of Set 7 : butembo\n",
      "Processing Record 2 of Set 7 : katsiveli\n",
      "City not found. Skipping...\n",
      "Processing Record 3 of Set 7 : viedma\n",
      "Processing Record 4 of Set 7 : parthenay\n",
      "Processing Record 5 of Set 7 : ulcinj\n",
      "Processing Record 6 of Set 7 : vallenar\n",
      "Processing Record 7 of Set 7 : juazeiro do norte\n",
      "Processing Record 8 of Set 7 : ola\n",
      "Processing Record 9 of Set 7 : cam ranh\n",
      "Processing Record 10 of Set 7 : bull savanna\n",
      "Processing Record 11 of Set 7 : warrington\n",
      "Processing Record 12 of Set 7 : ixtapa\n",
      "Processing Record 13 of Set 7 : cidreira\n",
      "Processing Record 14 of Set 7 : whitianga\n",
      "Processing Record 15 of Set 7 : seoul\n",
      "Processing Record 16 of Set 7 : roald\n",
      "Processing Record 17 of Set 7 : madras\n",
      "Processing Record 18 of Set 7 : addi ugri\n",
      "City not found. Skipping...\n",
      "Processing Record 19 of Set 7 : tenenkou\n",
      "Processing Record 20 of Set 7 : manta\n",
      "Processing Record 21 of Set 7 : mukhtolovo\n",
      "Processing Record 22 of Set 7 : vozhega\n",
      "Processing Record 23 of Set 7 : warrnambool\n",
      "Processing Record 24 of Set 7 : daru\n",
      "Processing Record 25 of Set 7 : brae\n",
      "Processing Record 26 of Set 7 : lucea\n",
      "Processing Record 27 of Set 7 : kwakoa\n",
      "Processing Record 28 of Set 7 : warqla\n",
      "City not found. Skipping...\n",
      "Processing Record 29 of Set 7 : grigoropolisskaya\n",
      "Processing Record 30 of Set 7 : camacupa\n",
      "Processing Record 31 of Set 7 : kijang\n",
      "Processing Record 32 of Set 7 : dinguiraye\n",
      "Processing Record 33 of Set 7 : kuche\n",
      "City not found. Skipping...\n",
      "Processing Record 34 of Set 7 : maarianhamina\n",
      "Processing Record 35 of Set 7 : college\n",
      "Processing Record 36 of Set 7 : klaksvik\n",
      "Processing Record 37 of Set 7 : rocha\n",
      "Processing Record 38 of Set 7 : kingsport\n",
      "Processing Record 39 of Set 7 : puerto escondido\n",
      "Processing Record 40 of Set 7 : les cayes\n",
      "Processing Record 41 of Set 7 : kimbe\n",
      "Processing Record 42 of Set 7 : tsihombe\n",
      "City not found. Skipping...\n",
      "Processing Record 43 of Set 7 : narsaq\n",
      "Processing Record 44 of Set 7 : talcahuano\n",
      "Processing Record 45 of Set 7 : stornoway\n",
      "Processing Record 46 of Set 7 : talnakh\n",
      "Processing Record 47 of Set 7 : oussouye\n",
      "Processing Record 48 of Set 7 : erechim\n",
      "Processing Record 49 of Set 7 : sabang\n",
      "Processing Record 50 of Set 7 : tual\n",
      "Processing Record 1 of Set 8 : atchison\n",
      "Processing Record 2 of Set 8 : winslow\n",
      "Processing Record 3 of Set 8 : fairbanks\n",
      "Processing Record 4 of Set 8 : clyde river\n",
      "Processing Record 5 of Set 8 : meyungs\n",
      "City not found. Skipping...\n",
      "Processing Record 6 of Set 8 : berezovyy\n",
      "Processing Record 7 of Set 8 : huilong\n",
      "Processing Record 8 of Set 8 : saint-pierre\n",
      "Processing Record 9 of Set 8 : obo\n",
      "Processing Record 10 of Set 8 : port macquarie\n",
      "Processing Record 11 of Set 8 : kahului\n",
      "Processing Record 12 of Set 8 : motozintla\n",
      "Processing Record 13 of Set 8 : ancud\n",
      "Processing Record 14 of Set 8 : singaparna\n",
      "Processing Record 15 of Set 8 : knysna\n",
      "Processing Record 16 of Set 8 : axim\n",
      "Processing Record 17 of Set 8 : salym\n",
      "Processing Record 18 of Set 8 : wesselsbron\n",
      "Processing Record 19 of Set 8 : kalengwa\n",
      "Processing Record 20 of Set 8 : te anau\n",
      "Processing Record 21 of Set 8 : nova vodolaha\n",
      "Processing Record 22 of Set 8 : jilib\n",
      "Processing Record 23 of Set 8 : marawi\n",
      "Processing Record 24 of Set 8 : davila\n",
      "Processing Record 25 of Set 8 : araouane\n",
      "Processing Record 26 of Set 8 : mehamn\n",
      "Processing Record 27 of Set 8 : dixon\n",
      "Processing Record 28 of Set 8 : airai\n",
      "Processing Record 29 of Set 8 : mouila\n",
      "Processing Record 30 of Set 8 : svetlogorsk\n",
      "Processing Record 31 of Set 8 : nador\n",
      "Processing Record 32 of Set 8 : shache\n",
      "Processing Record 33 of Set 8 : tommot\n",
      "Processing Record 34 of Set 8 : geraldton\n",
      "Processing Record 35 of Set 8 : simbahan\n",
      "Processing Record 36 of Set 8 : uspenka\n",
      "Processing Record 37 of Set 8 : takahama\n",
      "Processing Record 38 of Set 8 : korla\n",
      "Processing Record 39 of Set 8 : canaries\n",
      "Processing Record 40 of Set 8 : hamilton\n",
      "Processing Record 41 of Set 8 : aksehir\n",
      "Processing Record 42 of Set 8 : pandamatenga\n",
      "Processing Record 43 of Set 8 : ouro preto do oeste\n",
      "Processing Record 44 of Set 8 : telimele\n",
      "Processing Record 45 of Set 8 : cabo san lucas\n",
      "Processing Record 46 of Set 8 : karistos\n",
      "City not found. Skipping...\n",
      "Processing Record 47 of Set 8 : iqaluit\n",
      "Processing Record 48 of Set 8 : marsabit\n",
      "Processing Record 49 of Set 8 : burica\n",
      "City not found. Skipping...\n",
      "Processing Record 50 of Set 8 : esperance\n",
      "Processing Record 1 of Set 9 : camacha\n",
      "Processing Record 2 of Set 9 : vytegra\n",
      "Processing Record 3 of Set 9 : bronnoysund\n",
      "Processing Record 4 of Set 9 : spartanburg\n",
      "Processing Record 5 of Set 9 : gazojak\n",
      "Processing Record 6 of Set 9 : along\n",
      "Processing Record 7 of Set 9 : planeta rica\n",
      "Processing Record 8 of Set 9 : kashi\n",
      "Processing Record 9 of Set 9 : paraiso\n",
      "Processing Record 10 of Set 9 : toamasina\n",
      "Processing Record 11 of Set 9 : kulhudhuffushi\n",
      "Processing Record 12 of Set 9 : andarab\n",
      "City not found. Skipping...\n",
      "Processing Record 13 of Set 9 : rawson\n",
      "Processing Record 14 of Set 9 : grand river south east\n",
      "City not found. Skipping...\n",
      "Processing Record 15 of Set 9 : sorland\n",
      "Processing Record 16 of Set 9 : ketchikan\n",
      "Processing Record 17 of Set 9 : matay\n",
      "Processing Record 18 of Set 9 : mount isa\n",
      "Processing Record 19 of Set 9 : tuatapere\n",
      "Processing Record 20 of Set 9 : puerto carreno\n",
      "Processing Record 21 of Set 9 : pitimbu\n",
      "Processing Record 22 of Set 9 : alanya\n",
      "Processing Record 23 of Set 9 : enid\n",
      "Processing Record 24 of Set 9 : tumannyy\n",
      "City not found. Skipping...\n",
      "Processing Record 25 of Set 9 : kalawit\n",
      "Processing Record 26 of Set 9 : glendive\n",
      "Processing Record 27 of Set 9 : yuci\n",
      "Processing Record 28 of Set 9 : joao pinheiro\n",
      "Processing Record 29 of Set 9 : jumla\n",
      "Processing Record 30 of Set 9 : chifeng\n",
      "Processing Record 31 of Set 9 : lalibela\n",
      "Processing Record 32 of Set 9 : bahia blanca\n",
      "Processing Record 33 of Set 9 : olafsvik\n",
      "Processing Record 34 of Set 9 : saldanha\n",
      "Processing Record 35 of Set 9 : sibolga\n",
      "Processing Record 36 of Set 9 : huautla\n",
      "Processing Record 37 of Set 9 : raahe\n",
      "Processing Record 38 of Set 9 : ziro\n",
      "Processing Record 39 of Set 9 : lasa\n",
      "Processing Record 40 of Set 9 : bintulu\n",
      "Processing Record 41 of Set 9 : hofn\n",
      "Processing Record 42 of Set 9 : ouango\n",
      "Processing Record 43 of Set 9 : purranque\n",
      "Processing Record 44 of Set 9 : baruun-urt\n",
      "Processing Record 45 of Set 9 : fuxin\n",
      "Processing Record 46 of Set 9 : yuancheng\n",
      "Processing Record 47 of Set 9 : nerchinskiy zavod\n",
      "Processing Record 48 of Set 9 : celestun\n",
      "Processing Record 49 of Set 9 : lompoc\n",
      "Processing Record 50 of Set 9 : avera\n",
      "Processing Record 1 of Set 10 : aripuana\n",
      "Processing Record 2 of Set 10 : moindou\n"
     ]
    },
    {
     "name": "stdout",
     "output_type": "stream",
     "text": [
      "Processing Record 3 of Set 10 : kingman\n",
      "Processing Record 4 of Set 10 : tianpeng\n",
      "Processing Record 5 of Set 10 : penarroya-pueblonuevo\n",
      "Processing Record 6 of Set 10 : vila franca do campo\n",
      "Processing Record 7 of Set 10 : cao bang\n",
      "Processing Record 8 of Set 10 : andevoranto\n",
      "City not found. Skipping...\n",
      "Processing Record 9 of Set 10 : naryan-mar\n",
      "Processing Record 10 of Set 10 : honiara\n",
      "Processing Record 11 of Set 10 : batemans bay\n",
      "Processing Record 12 of Set 10 : isangel\n",
      "Processing Record 13 of Set 10 : kendari\n",
      "Processing Record 14 of Set 10 : san rafael\n",
      "Processing Record 15 of Set 10 : mutare\n",
      "Processing Record 16 of Set 10 : griffith\n",
      "Processing Record 17 of Set 10 : egvekinot\n",
      "Processing Record 18 of Set 10 : kribi\n",
      "Processing Record 19 of Set 10 : alikalia\n",
      "Processing Record 20 of Set 10 : nadym\n",
      "Processing Record 21 of Set 10 : bogotol\n",
      "Processing Record 22 of Set 10 : linxia\n",
      "Processing Record 23 of Set 10 : bilma\n",
      "Processing Record 24 of Set 10 : mys shmidta\n",
      "City not found. Skipping...\n",
      "Processing Record 25 of Set 10 : tha bo\n",
      "Processing Record 26 of Set 10 : krasnoselkup\n",
      "Processing Record 27 of Set 10 : kieta\n",
      "Processing Record 28 of Set 10 : vagur\n",
      "Processing Record 29 of Set 10 : kwinana\n",
      "Processing Record 30 of Set 10 : parana\n",
      "Processing Record 31 of Set 10 : shu\n",
      "Processing Record 32 of Set 10 : lincoln\n",
      "Processing Record 33 of Set 10 : manicore\n",
      "Processing Record 34 of Set 10 : grindavik\n",
      "Processing Record 35 of Set 10 : luwuk\n",
      "Processing Record 36 of Set 10 : nara\n",
      "Processing Record 37 of Set 10 : etaples\n",
      "Processing Record 38 of Set 10 : channel-port aux basques\n",
      "Processing Record 39 of Set 10 : labutta\n",
      "City not found. Skipping...\n",
      "Processing Record 40 of Set 10 : namestovo\n",
      "Processing Record 41 of Set 10 : omboue\n",
      "Processing Record 42 of Set 10 : constitucion\n",
      "Processing Record 43 of Set 10 : dosso\n",
      "Processing Record 44 of Set 10 : cesenatico\n",
      "Processing Record 45 of Set 10 : la ronge\n",
      "Processing Record 46 of Set 10 : mitu\n",
      "Processing Record 47 of Set 10 : khasan\n",
      "Processing Record 48 of Set 10 : ayia galini\n",
      "Processing Record 49 of Set 10 : qasigiannguit\n",
      "Processing Record 50 of Set 10 : baherden\n",
      "Processing Record 1 of Set 11 : hami\n",
      "Processing Record 2 of Set 11 : rio grande\n",
      "Processing Record 3 of Set 11 : nhulunbuy\n",
      "Processing Record 4 of Set 11 : cherskiy\n",
      "Processing Record 5 of Set 11 : pulwama\n",
      "Processing Record 6 of Set 11 : lolua\n",
      "City not found. Skipping...\n",
      "Processing Record 7 of Set 11 : teguldet\n",
      "Processing Record 8 of Set 11 : nichinan\n",
      "Processing Record 9 of Set 11 : fort nelson\n",
      "Processing Record 10 of Set 11 : wilmington island\n",
      "Processing Record 11 of Set 11 : zyryanka\n",
      "Processing Record 12 of Set 11 : mbaiki\n",
      "Processing Record 13 of Set 11 : sonoita\n",
      "Processing Record 14 of Set 11 : kysyl-syr\n",
      "Processing Record 15 of Set 11 : maceio\n",
      "Processing Record 16 of Set 11 : manono\n",
      "Processing Record 17 of Set 11 : padang\n",
      "Processing Record 18 of Set 11 : urbana\n",
      "Processing Record 19 of Set 11 : bad wurzach\n",
      "Processing Record 20 of Set 11 : kargasok\n",
      "Processing Record 21 of Set 11 : ukiah\n",
      "Processing Record 22 of Set 11 : guelengdeng\n",
      "City not found. Skipping...\n",
      "Processing Record 23 of Set 11 : cooma\n",
      "Processing Record 24 of Set 11 : lamar\n",
      "Processing Record 25 of Set 11 : saint-louis\n",
      "Processing Record 26 of Set 11 : marsh harbour\n",
      "Processing Record 27 of Set 11 : hasilpur\n",
      "Processing Record 28 of Set 11 : taksimo\n",
      "Processing Record 29 of Set 11 : katsuura\n",
      "Processing Record 30 of Set 11 : holalkere\n",
      "Processing Record 31 of Set 11 : atar\n",
      "Processing Record 32 of Set 11 : lhuntshi\n",
      "City not found. Skipping...\n",
      "Processing Record 33 of Set 11 : carauari\n",
      "Processing Record 34 of Set 11 : fare\n",
      "Processing Record 35 of Set 11 : townsville\n",
      "Processing Record 36 of Set 11 : babanusah\n",
      "City not found. Skipping...\n",
      "Processing Record 37 of Set 11 : narasannapeta\n",
      "Processing Record 38 of Set 11 : taloqan\n",
      "Processing Record 39 of Set 11 : kawalu\n",
      "Processing Record 40 of Set 11 : cascais\n",
      "Processing Record 41 of Set 11 : ekhabi\n",
      "Processing Record 42 of Set 11 : labrea\n",
      "Processing Record 43 of Set 11 : bandarbeyla\n",
      "Processing Record 44 of Set 11 : utiroa\n",
      "City not found. Skipping...\n",
      "Processing Record 45 of Set 11 : riyadh\n",
      "Processing Record 46 of Set 11 : dutse\n",
      "Processing Record 47 of Set 11 : comodoro rivadavia\n",
      "Processing Record 48 of Set 11 : kraksaan\n",
      "Processing Record 49 of Set 11 : julana\n",
      "City not found. Skipping...\n",
      "Processing Record 50 of Set 11 : kendal\n",
      "Processing Record 1 of Set 12 : mutsamudu\n",
      "City not found. Skipping...\n",
      "Processing Record 2 of Set 12 : yerbogachen\n",
      "Processing Record 3 of Set 12 : kupang\n",
      "Processing Record 4 of Set 12 : acapulco\n",
      "Processing Record 5 of Set 12 : burnie\n",
      "Processing Record 6 of Set 12 : lerwick\n",
      "Processing Record 7 of Set 12 : alofi\n",
      "Processing Record 8 of Set 12 : jahrom\n",
      "City not found. Skipping...\n",
      "Processing Record 9 of Set 12 : zhanatas\n",
      "City not found. Skipping...\n",
      "Processing Record 10 of Set 12 : nelson bay\n",
      "Processing Record 11 of Set 12 : malanje\n",
      "Processing Record 12 of Set 12 : juegang\n",
      "Processing Record 13 of Set 12 : jarjis\n",
      "City not found. Skipping...\n",
      "Processing Record 14 of Set 12 : husavik\n",
      "Processing Record 15 of Set 12 : airdrie\n",
      "Processing Record 16 of Set 12 : uruzgan\n",
      "Processing Record 17 of Set 12 : pombas\n",
      "Processing Record 18 of Set 12 : daxian\n",
      "City not found. Skipping...\n",
      "Processing Record 19 of Set 12 : hohhot\n",
      "Processing Record 20 of Set 12 : zharkent\n",
      "Processing Record 21 of Set 12 : mogadishu\n",
      "Processing Record 22 of Set 12 : segesd\n",
      "Processing Record 23 of Set 12 : khandyga\n",
      "Processing Record 24 of Set 12 : eenhana\n",
      "Processing Record 25 of Set 12 : nyurba\n",
      "Processing Record 26 of Set 12 : vanimo\n",
      "Processing Record 27 of Set 12 : jiuquan\n",
      "Processing Record 28 of Set 12 : ilo\n",
      "Processing Record 29 of Set 12 : palmerston\n",
      "Processing Record 30 of Set 12 : shakawe\n",
      "Processing Record 31 of Set 12 : christchurch\n",
      "Processing Record 32 of Set 12 : salamiyah\n",
      "Processing Record 33 of Set 12 : barranca\n",
      "Processing Record 34 of Set 12 : makakilo city\n",
      "Processing Record 35 of Set 12 : portland\n",
      "Processing Record 36 of Set 12 : coxim\n",
      "Processing Record 37 of Set 12 : bowen\n",
      "Processing Record 38 of Set 12 : tocopilla\n",
      "Processing Record 39 of Set 12 : bitung\n",
      "Processing Record 40 of Set 12 : wad rawah\n",
      "Processing Record 41 of Set 12 : ostrovnoy\n",
      "Processing Record 42 of Set 12 : nizwa\n",
      "Processing Record 43 of Set 12 : ahipara\n",
      "Processing Record 44 of Set 12 : reshetylivka\n",
      "Processing Record 45 of Set 12 : hervey bay\n",
      "Processing Record 46 of Set 12 : humboldt\n",
      "Processing Record 47 of Set 12 : yasnyy\n",
      "Processing Record 48 of Set 12 : gazni\n",
      "City not found. Skipping...\n",
      "Processing Record 49 of Set 12 : chillan\n",
      "Processing Record 50 of Set 12 : poum\n",
      "Processing Record 1 of Set 13 : pilao arcado\n",
      "City not found. Skipping...\n",
      "Processing Record 2 of Set 13 : kutum\n",
      "Processing Record 3 of Set 13 : latung\n",
      "Processing Record 4 of Set 13 : umm kaddadah\n",
      "Processing Record 5 of Set 13 : half moon bay\n",
      "Processing Record 6 of Set 13 : kaseda\n",
      "Processing Record 7 of Set 13 : tharrawaddy\n",
      "City not found. Skipping...\n",
      "--------------------------\n",
      "Data Retrieval Complete\n",
      "--------------------------\n"
     ]
    }
   ],
   "source": [
    "base_url = \"https://api.openweathermap.org/data/2.5/weather?units=imperial&appid=\"+ weather_api_key\n",
    "\n",
    "print (\"Beginning Data Retrieval\")\n",
    "print (\"--------------------------\")\n",
    "\n",
    "\n",
    "weather_data = []\n",
    "for index, city in enumerate(cities):\n",
    "    \n",
    "    if (index % 50 == 0 and index >= 50): \n",
    "            index_counter = 1\n",
    "            set_counter += 1\n",
    "     \n",
    "    query_url = base_url + \"&q=\" + city \n",
    "    \n",
    "    weather_response = requests.get(query_url)\n",
    "    \n",
    "    weather_json = weather_response.json()\n",
    "    \n",
    "    print(f\"Processing Record {index_counter} of Set {set_counter} : {city}\")\n",
    "    \n",
    "    index_counter += 1\n",
    "    \n",
    "    try: \n",
    "        lat_list.append(weather_json[\"coord\"][\"lat\"])\n",
    "        city_list.append(city)\n",
    "        lng_list.append(weather_json[\"coord\"][\"lon\"])\n",
    "        max_temp_list.append(weather_json[\"main\"][\"temp_max\"])\n",
    "        humidity_list.append(weather_json[\"main\"][\"humidity\"])\n",
    "        cloudiness_list.append(weather_json[\"clouds\"][\"all\"])\n",
    "        wind_speed_list.append(weather_json[\"wind\"][\"speed\"])\n",
    "        country_list.append(weather_json[\"sys\"][\"country\"])\n",
    "        date_list.append(weather_json[\"dt\"])\n",
    "        \n",
    "    except:\n",
    "        print(\"City not found. Skipping...\")\n",
    "        pass\n",
    "        \n",
    "print(\"--------------------------\")\n",
    "print(\"Data Retrieval Complete\")\n",
    "print(\"--------------------------\")"
   ]
  },
  {
   "cell_type": "markdown",
   "metadata": {},
   "source": [
    "### Convert Raw Data to DataFrame\n",
    "* Export the city data into a .csv.\n",
    "* Display the DataFrame"
   ]
  },
  {
   "cell_type": "code",
   "execution_count": null,
   "metadata": {},
   "outputs": [],
   "source": []
  },
  {
   "cell_type": "code",
   "execution_count": 6,
   "metadata": {},
   "outputs": [],
   "source": [
    "#export city data into csv\n",
    "weather_data = pd.DataFrame({\n",
    "    \"City\" : city_list,\n",
    "    \"Lat\" : lat_list,\n",
    "    \"Lng\" : lng_list,\n",
    "    \"Max Temp\" : max_temp_list,\n",
    "    \"Humidity\" : humidity_list,\n",
    "    \"Cloudiness\" : cloudiness_list,\n",
    "    \"Wind Speed\" : wind_speed_list,\n",
    "    \"Country\" : country_list,\n",
    "    \"Date\" : date_list\n",
    "})"
   ]
  },
  {
   "cell_type": "code",
   "execution_count": 7,
   "metadata": {},
   "outputs": [
    {
     "data": {
      "text/plain": [
       "City          373\n",
       "Lat           373\n",
       "Lng           373\n",
       "Max Temp      373\n",
       "Humidity      373\n",
       "Cloudiness    373\n",
       "Wind Speed    373\n",
       "Country       373\n",
       "Date          373\n",
       "dtype: int64"
      ]
     },
     "execution_count": 7,
     "metadata": {},
     "output_type": "execute_result"
    }
   ],
   "source": [
    "#count dat\n",
    "weather_data.count()"
   ]
  },
  {
   "cell_type": "code",
   "execution_count": 8,
   "metadata": {
    "scrolled": true
   },
   "outputs": [
    {
     "data": {
      "text/html": [
       "<div>\n",
       "<style scoped>\n",
       "    .dataframe tbody tr th:only-of-type {\n",
       "        vertical-align: middle;\n",
       "    }\n",
       "\n",
       "    .dataframe tbody tr th {\n",
       "        vertical-align: top;\n",
       "    }\n",
       "\n",
       "    .dataframe thead th {\n",
       "        text-align: right;\n",
       "    }\n",
       "</style>\n",
       "<table border=\"1\" class=\"dataframe\">\n",
       "  <thead>\n",
       "    <tr style=\"text-align: right;\">\n",
       "      <th></th>\n",
       "      <th>City</th>\n",
       "      <th>Lat</th>\n",
       "      <th>Lng</th>\n",
       "      <th>Max Temp</th>\n",
       "      <th>Humidity</th>\n",
       "      <th>Cloudiness</th>\n",
       "      <th>Wind Speed</th>\n",
       "      <th>Country</th>\n",
       "      <th>Date</th>\n",
       "    </tr>\n",
       "  </thead>\n",
       "  <tbody>\n",
       "    <tr>\n",
       "      <th>0</th>\n",
       "      <td>quatre cocos</td>\n",
       "      <td>-20.21</td>\n",
       "      <td>57.76</td>\n",
       "      <td>73.00</td>\n",
       "      <td>73</td>\n",
       "      <td>75</td>\n",
       "      <td>14.99</td>\n",
       "      <td>MU</td>\n",
       "      <td>1595824907</td>\n",
       "    </tr>\n",
       "    <tr>\n",
       "      <th>1</th>\n",
       "      <td>zlitan</td>\n",
       "      <td>32.47</td>\n",
       "      <td>14.57</td>\n",
       "      <td>76.33</td>\n",
       "      <td>77</td>\n",
       "      <td>0</td>\n",
       "      <td>2.71</td>\n",
       "      <td>LY</td>\n",
       "      <td>1595824907</td>\n",
       "    </tr>\n",
       "    <tr>\n",
       "      <th>2</th>\n",
       "      <td>lebu</td>\n",
       "      <td>-37.62</td>\n",
       "      <td>-73.65</td>\n",
       "      <td>47.23</td>\n",
       "      <td>83</td>\n",
       "      <td>58</td>\n",
       "      <td>7.58</td>\n",
       "      <td>CL</td>\n",
       "      <td>1595824908</td>\n",
       "    </tr>\n",
       "    <tr>\n",
       "      <th>3</th>\n",
       "      <td>lima</td>\n",
       "      <td>-12.04</td>\n",
       "      <td>-77.03</td>\n",
       "      <td>59.00</td>\n",
       "      <td>87</td>\n",
       "      <td>90</td>\n",
       "      <td>9.17</td>\n",
       "      <td>PE</td>\n",
       "      <td>1595824636</td>\n",
       "    </tr>\n",
       "    <tr>\n",
       "      <th>4</th>\n",
       "      <td>alyangula</td>\n",
       "      <td>-13.85</td>\n",
       "      <td>136.42</td>\n",
       "      <td>80.60</td>\n",
       "      <td>34</td>\n",
       "      <td>91</td>\n",
       "      <td>12.75</td>\n",
       "      <td>AU</td>\n",
       "      <td>1595824909</td>\n",
       "    </tr>\n",
       "    <tr>\n",
       "      <th>...</th>\n",
       "      <td>...</td>\n",
       "      <td>...</td>\n",
       "      <td>...</td>\n",
       "      <td>...</td>\n",
       "      <td>...</td>\n",
       "      <td>...</td>\n",
       "      <td>...</td>\n",
       "      <td>...</td>\n",
       "      <td>...</td>\n",
       "    </tr>\n",
       "    <tr>\n",
       "      <th>368</th>\n",
       "      <td>kutum</td>\n",
       "      <td>14.20</td>\n",
       "      <td>24.67</td>\n",
       "      <td>76.75</td>\n",
       "      <td>47</td>\n",
       "      <td>83</td>\n",
       "      <td>4.05</td>\n",
       "      <td>SD</td>\n",
       "      <td>1595825042</td>\n",
       "    </tr>\n",
       "    <tr>\n",
       "      <th>369</th>\n",
       "      <td>latung</td>\n",
       "      <td>5.50</td>\n",
       "      <td>120.88</td>\n",
       "      <td>84.16</td>\n",
       "      <td>71</td>\n",
       "      <td>34</td>\n",
       "      <td>6.87</td>\n",
       "      <td>PH</td>\n",
       "      <td>1595825042</td>\n",
       "    </tr>\n",
       "    <tr>\n",
       "      <th>370</th>\n",
       "      <td>umm kaddadah</td>\n",
       "      <td>13.60</td>\n",
       "      <td>26.69</td>\n",
       "      <td>79.92</td>\n",
       "      <td>64</td>\n",
       "      <td>46</td>\n",
       "      <td>14.56</td>\n",
       "      <td>SD</td>\n",
       "      <td>1595825042</td>\n",
       "    </tr>\n",
       "    <tr>\n",
       "      <th>371</th>\n",
       "      <td>half moon bay</td>\n",
       "      <td>37.46</td>\n",
       "      <td>-122.43</td>\n",
       "      <td>64.40</td>\n",
       "      <td>93</td>\n",
       "      <td>90</td>\n",
       "      <td>4.70</td>\n",
       "      <td>US</td>\n",
       "      <td>1595825043</td>\n",
       "    </tr>\n",
       "    <tr>\n",
       "      <th>372</th>\n",
       "      <td>kaseda</td>\n",
       "      <td>31.42</td>\n",
       "      <td>130.32</td>\n",
       "      <td>78.80</td>\n",
       "      <td>94</td>\n",
       "      <td>75</td>\n",
       "      <td>5.82</td>\n",
       "      <td>JP</td>\n",
       "      <td>1595825043</td>\n",
       "    </tr>\n",
       "  </tbody>\n",
       "</table>\n",
       "<p>373 rows × 9 columns</p>\n",
       "</div>"
      ],
      "text/plain": [
       "              City    Lat     Lng  Max Temp  Humidity  Cloudiness  Wind Speed  \\\n",
       "0     quatre cocos -20.21   57.76     73.00        73          75       14.99   \n",
       "1           zlitan  32.47   14.57     76.33        77           0        2.71   \n",
       "2             lebu -37.62  -73.65     47.23        83          58        7.58   \n",
       "3             lima -12.04  -77.03     59.00        87          90        9.17   \n",
       "4        alyangula -13.85  136.42     80.60        34          91       12.75   \n",
       "..             ...    ...     ...       ...       ...         ...         ...   \n",
       "368          kutum  14.20   24.67     76.75        47          83        4.05   \n",
       "369         latung   5.50  120.88     84.16        71          34        6.87   \n",
       "370   umm kaddadah  13.60   26.69     79.92        64          46       14.56   \n",
       "371  half moon bay  37.46 -122.43     64.40        93          90        4.70   \n",
       "372         kaseda  31.42  130.32     78.80        94          75        5.82   \n",
       "\n",
       "    Country        Date  \n",
       "0        MU  1595824907  \n",
       "1        LY  1595824907  \n",
       "2        CL  1595824908  \n",
       "3        PE  1595824636  \n",
       "4        AU  1595824909  \n",
       "..      ...         ...  \n",
       "368      SD  1595825042  \n",
       "369      PH  1595825042  \n",
       "370      SD  1595825042  \n",
       "371      US  1595825043  \n",
       "372      JP  1595825043  \n",
       "\n",
       "[373 rows x 9 columns]"
      ]
     },
     "execution_count": 8,
     "metadata": {},
     "output_type": "execute_result"
    }
   ],
   "source": [
    "weather_data"
   ]
  },
  {
   "cell_type": "code",
   "execution_count": 9,
   "metadata": {},
   "outputs": [],
   "source": [
    "weather_data.to_csv(\"output_data/cities.csv\", index = False)"
   ]
  },
  {
   "cell_type": "markdown",
   "metadata": {},
   "source": [
    "## Inspect the data and remove the cities where the humidity > 100%.\n",
    "----\n",
    "Skip this step if there are no cities that have humidity > 100%. "
   ]
  },
  {
   "cell_type": "code",
   "execution_count": null,
   "metadata": {},
   "outputs": [],
   "source": []
  },
  {
   "cell_type": "code",
   "execution_count": 11,
   "metadata": {},
   "outputs": [],
   "source": [
    "#  Get the indices of cities that have humidity over 100%.\n",
    "new_city_data = weather_data[(weather_data[\"Humidity\"] > 100)].index"
   ]
  },
  {
   "cell_type": "code",
   "execution_count": 12,
   "metadata": {},
   "outputs": [
    {
     "data": {
      "text/plain": [
       "Int64Index([], dtype='int64')"
      ]
     },
     "execution_count": 12,
     "metadata": {},
     "output_type": "execute_result"
    }
   ],
   "source": [
    "# Make a new DataFrame equal to the city data to drop all humidity outliers by index.\n",
    "# Passing \"inplace=False\" will make a copy of the city_data DataFrame, which we call \"clean_city_data\".\n",
    "new_city_data"
   ]
  },
  {
   "cell_type": "code",
   "execution_count": 13,
   "metadata": {},
   "outputs": [],
   "source": [
    "# Extract relevant fields from the data frame\n",
    "\n",
    "#export city data into csv\n",
    "new_city_data = pd.DataFrame({\n",
    "    \"City\" : city_list,\n",
    "    \"Lat\" : lat_list,\n",
    "    \"Lng\" : lng_list,\n",
    "    \"Max Temp\" : max_temp_list,\n",
    "    \"Humidity\" : humidity_list,\n",
    "    \"Cloudiness\" : cloudiness_list,\n",
    "    \"Wind Speed\" : wind_speed_list,\n",
    "    \"Country\" : country_list,\n",
    "    \"Date\" : date_list\n",
    "})\n",
    "# Export the City_Data into a csv"
   ]
  },
  {
   "cell_type": "markdown",
   "metadata": {},
   "source": [
    "## Plotting the Data\n",
    "* Use proper labeling of the plots using plot titles (including date of analysis) and axes labels.\n",
    "* Save the plotted figures as .pngs."
   ]
  },
  {
   "cell_type": "markdown",
   "metadata": {},
   "source": [
    "## Latitude vs. Temperature Plot"
   ]
  },
  {
   "cell_type": "code",
   "execution_count": 20,
   "metadata": {
    "scrolled": true
   },
   "outputs": [
    {
     "data": {
      "image/png": "[encoded data removed]",
      "text/plain": [
       "<Figure size 432x288 with 1 Axes>"
      ]
     },
     "metadata": {
      "needs_background": "light"
     },
     "output_type": "display_data"
    }
   ],
   "source": [
    "#Latitude vs. Temperature scatter plot\n",
    "plt.scatter(weather_data[\"Lat\"], weather_data[\"Max Temp\"], facecolor = \"steelblue\", edgecolor = \"black\")\n",
    "\n",
    "#title\n",
    "plt.title(\"City Latitude vs. Max Temperature\") \n",
    "\n",
    "#x axis\n",
    "plt.xlabel(\"Latitude\")\n",
    "\n",
    "#y axis\n",
    "plt.ylabel(\"Max Temperature\")\n",
    "\n",
    "#grid line\n",
    "plt.grid(linestyle=\"-\", linewidth=1, alpha = 0.5)\n",
    "\n",
    "#save as pngs\n",
    "plt.savefig(\"../Images/City Latitude vs Max Temperature.png\")"
   ]
  },
  {
   "cell_type": "markdown",
   "metadata": {},
   "source": [
    "## Latitude vs. Humidity Plot"
   ]
  },
  {
   "cell_type": "code",
   "execution_count": 21,
   "metadata": {},
   "outputs": [
    {
     "data": {
      "image/png": "[encoded data removed]",
      "text/plain": [
       "<Figure size 432x288 with 1 Axes>"
      ]
     },
     "metadata": {
      "needs_background": "light"
     },
     "output_type": "display_data"
    }
   ],
   "source": [
    "#Latitude vs. Temperature scatter plot\n",
    "plt.scatter(weather_data[\"Lat\"], weather_data[\"Humidity\"], facecolor = \"steelblue\", edgecolor = \"black\")\n",
    "\n",
    "#title\n",
    "plt.title(\"City Latitude vs. Max Humidity\") \n",
    "\n",
    "#x axis\n",
    "plt.xlabel(\"Latitude\")\n",
    "\n",
    "#y axis\n",
    "plt.ylabel(\"Humidity (%)\")\n",
    "\n",
    "#grid line\n",
    "plt.grid(linestyle=\"-\", linewidth=1, alpha = 0.5)\n",
    "\n",
    "#save as pngs\n",
    "plt.savefig(\"../Images/City Latitude vs Humidity.png\")"
   ]
  },
  {
   "cell_type": "markdown",
   "metadata": {},
   "source": [
    "## Latitude vs. Cloudiness Plot"
   ]
  },
  {
   "cell_type": "code",
   "execution_count": 22,
   "metadata": {
    "scrolled": true
   },
   "outputs": [
    {
     "data": {
      "image/png": "[encoded data removed]",
      "text/plain": [
       "<Figure size 432x288 with 1 Axes>"
      ]
     },
     "metadata": {
      "needs_background": "light"
     },
     "output_type": "display_data"
    }
   ],
   "source": [
    "#Latitude vs. Temperature scatter plot\n",
    "plt.scatter(weather_data[\"Lat\"], weather_data[\"Cloudiness\"], facecolor = \"steelblue\", edgecolor = \"black\")\n",
    "\n",
    "#title\n",
    "plt.title(\"City Latitude vs. Cloudiness\") \n",
    "\n",
    "#x axis\n",
    "plt.xlabel(\"Latitude\")\n",
    "\n",
    "#y axis\n",
    "plt.ylabel(\"Cloudiness (%)\")\n",
    "\n",
    "#grid line\n",
    "plt.grid(linestyle=\"-\", linewidth=1, alpha = 0.5)\n",
    "\n",
    "#save as pngs\n",
    "plt.savefig(\"../Images/City Latitude vs Cloudiness.png\")"
   ]
  },
  {
   "cell_type": "markdown",
   "metadata": {},
   "source": [
    "## Latitude vs. Wind Speed Plot"
   ]
  },
  {
   "cell_type": "code",
   "execution_count": 23,
   "metadata": {},
   "outputs": [
    {
     "data": {
      "image/png": "[encoded data removed]",
      "text/plain": [
       "<Figure size 432x288 with 1 Axes>"
      ]
     },
     "metadata": {
      "needs_background": "light"
     },
     "output_type": "display_data"
    }
   ],
   "source": [
    "#Latitude vs. Temperature scatter plot\n",
    "plt.scatter(weather_data[\"Lat\"], weather_data[\"Wind Speed\"], facecolor = \"steelblue\", edgecolor = \"black\")\n",
    "\n",
    "#title\n",
    "plt.title(\"City Latitude vs. Wind Speed\")\n",
    "\n",
    "#x axis\n",
    "plt.xlabel(\"Latitude\")\n",
    "\n",
    "#y axis\n",
    "plt.ylabel(\"Wind Speed (%)\")\n",
    "\n",
    "#grid line\n",
    "plt.grid(linestyle=\"-\", linewidth=1, alpha = 0.5)\n",
    "\n",
    "#save as pngs\n",
    "plt.savefig(\"../Images/City Latitude vs Wind Speed.png\")"
   ]
  },
  {
   "cell_type": "markdown",
   "metadata": {},
   "source": [
    "## Linear Regression"
   ]
  },
  {
   "cell_type": "code",
   "execution_count": 24,
   "metadata": {},
   "outputs": [],
   "source": [
    "# OPTIONAL: Create a function to create Linear Regression plots"
   ]
  },
  {
   "cell_type": "code",
   "execution_count": null,
   "metadata": {},
   "outputs": [],
   "source": []
  },
  {
   "cell_type": "code",
   "execution_count": 27,
   "metadata": {},
   "outputs": [],
   "source": [
    "# Create Northern and Southern Hemisphere DataFrames\n",
    "northern_hemisphere = weather_data.loc[weather_data[\"Lat\"] >= 0]\n",
    "southern_hemisphere = weather_data.loc[weather_data[\"Lat\"] <= 0]\n"
   ]
  },
  {
   "cell_type": "code",
   "execution_count": null,
   "metadata": {},
   "outputs": [],
   "source": []
  },
  {
   "cell_type": "markdown",
   "metadata": {},
   "source": [
    "####  Northern Hemisphere - Max Temp vs. Latitude Linear Regression"
   ]
  },
  {
   "cell_type": "code",
   "execution_count": 28,
   "metadata": {},
   "outputs": [
    {
     "name": "stdout",
     "output_type": "stream",
     "text": [
      "The r-squared is: 0.3207235765880946\n"
     ]
    },
    {
     "data": {
      "image/png": "[encoded data removed]",
      "text/plain": [
       "<Figure size 432x288 with 1 Axes>"
      ]
     },
     "metadata": {
      "needs_background": "light"
     },
     "output_type": "display_data"
    },
    {
     "data": {
      "text/plain": [
       "<Figure size 432x288 with 0 Axes>"
      ]
     },
     "metadata": {},
     "output_type": "display_data"
    }
   ],
   "source": [
    "x_values = northern_hemisphere[\"Lat\"]\n",
    "y_values = northern_hemisphere[\"Max Temp\"]\n",
    "(slope, intercept, rvalue, pvalue, stderr) = linregress(x_values, y_values)\n",
    "regress_values = x_values * slope + intercept\n",
    "line_eq = \"y = \" + str(round(slope,2)) + \"x + \" + str(round(intercept,2))\n",
    "plt.scatter(x_values,y_values)\n",
    "plt.plot(x_values,regress_values,\"r-\")\n",
    "plt.annotate(line_eq,(0,50),fontsize=15,color=\"red\")\n",
    "plt.title(\"Northern Hemisphere - Max Temp vs Latitude Linear Regression\")\n",
    "plt.xlabel(\"Latitude\")\n",
    "plt.ylabel(\"Max Temp (F)\")\n",
    "print(f\"The r-squared is: {rvalue**2}\")\n",
    "plt.show()\n",
    "plt.savefig(\"../Images/Northern Hemisphere - Max Temp vs Latitude Linear Regression.png\")"
   ]
  },
  {
   "cell_type": "markdown",
   "metadata": {},
   "source": [
    "####  Southern Hemisphere - Max Temp vs. Latitude Linear Regression"
   ]
  },
  {
   "cell_type": "code",
   "execution_count": 29,
   "metadata": {},
   "outputs": [
    {
     "name": "stdout",
     "output_type": "stream",
     "text": [
      "The r-squared is: 0.5372657895881189\n"
     ]
    },
    {
     "data": {
      "image/png": "[encoded data removed]",
      "text/plain": [
       "<Figure size 432x288 with 1 Axes>"
      ]
     },
     "metadata": {
      "needs_background": "light"
     },
     "output_type": "display_data"
    },
    {
     "data": {
      "text/plain": [
       "<Figure size 432x288 with 0 Axes>"
      ]
     },
     "metadata": {},
     "output_type": "display_data"
    }
   ],
   "source": [
    "x_values = southern_hemisphere[\"Lat\"]\n",
    "y_values = southern_hemisphere[\"Max Temp\"]\n",
    "(slope, intercept, rvalue, pvalue, stderr) = linregress(x_values, y_values)\n",
    "regress_values = x_values * slope + intercept\n",
    "line_eq = \"y = \" + str(round(slope,2)) + \"x + \" + str(round(intercept,2))\n",
    "plt.scatter(x_values,y_values)\n",
    "plt.plot(x_values,regress_values,\"r-\")\n",
    "plt.annotate(line_eq,(-30,30),fontsize=15,color=\"red\")\n",
    "plt.title(\"Southern Hemisphere - Max Temp vs Latitude Linear Regression\")\n",
    "plt.xlabel(\"Latitude\")\n",
    "plt.ylabel(\"Max Temp (F)\")\n",
    "print(f\"The r-squared is: {rvalue**2}\")\n",
    "plt.show()\n",
    "plt.savefig(\"../Images/Southern Hemisphere - Max Temp vs Latitude Linear Regression.png\")"
   ]
  },
  {
   "cell_type": "markdown",
   "metadata": {},
   "source": [
    "####  Northern Hemisphere - Humidity (%) vs. Latitude Linear Regression"
   ]
  },
  {
   "cell_type": "code",
   "execution_count": 30,
   "metadata": {},
   "outputs": [
    {
     "name": "stdout",
     "output_type": "stream",
     "text": [
      "The r-squared is: 0.013185528530104117\n"
     ]
    },
    {
     "data": {
      "image/png": "[encoded data removed]",
      "text/plain": [
       "<Figure size 432x288 with 1 Axes>"
      ]
     },
     "metadata": {
      "needs_background": "light"
     },
     "output_type": "display_data"
    },
    {
     "data": {
      "text/plain": [
       "<Figure size 432x288 with 0 Axes>"
      ]
     },
     "metadata": {},
     "output_type": "display_data"
    }
   ],
   "source": [
    "x_values = northern_hemisphere[\"Lat\"]\n",
    "y_values = northern_hemisphere[\"Humidity\"]\n",
    "(slope, intercept, rvalue, pvalue, stderr) = linregress(x_values, y_values)\n",
    "regress_values = x_values * slope + intercept\n",
    "line_eq = \"y = \" + str(round(slope,2)) + \"x + \" + str(round(intercept,2))\n",
    "plt.scatter(x_values,y_values)\n",
    "plt.plot(x_values,regress_values,\"r-\")\n",
    "plt.annotate(line_eq,(0,50),fontsize=15,color=\"red\")\n",
    "plt.title(\"Northern Hemisphere - Humidity vs Latitude Linear Regression\")\n",
    "plt.xlabel(\"Latitude\")\n",
    "plt.ylabel(\"Humidity (%)\")\n",
    "print(f\"The r-squared is: {rvalue**2}\")\n",
    "plt.show()\n",
    "plt.savefig(\"../Images/Northern Hemisphere - Humidity vs Latitude Linear Regression.png\")"
   ]
  },
  {
   "cell_type": "markdown",
   "metadata": {},
   "source": [
    "####  Southern Hemisphere - Humidity (%) vs. Latitude Linear Regression"
   ]
  },
  {
   "cell_type": "code",
   "execution_count": 31,
   "metadata": {},
   "outputs": [
    {
     "name": "stdout",
     "output_type": "stream",
     "text": [
      "The r-squared is: 0.013474694621572398\n"
     ]
    },
    {
     "data": {
      "image/png": "[encoded data removed]",
      "text/plain": [
       "<Figure size 432x288 with 1 Axes>"
      ]
     },
     "metadata": {
      "needs_background": "light"
     },
     "output_type": "display_data"
    },
    {
     "data": {
      "text/plain": [
       "<Figure size 432x288 with 0 Axes>"
      ]
     },
     "metadata": {},
     "output_type": "display_data"
    }
   ],
   "source": [
    "x_values = southern_hemisphere[\"Lat\"]\n",
    "y_values = southern_hemisphere[\"Humidity\"]\n",
    "(slope, intercept, rvalue, pvalue, stderr) = linregress(x_values, y_values)\n",
    "regress_values = x_values * slope + intercept\n",
    "line_eq = \"y = \" + str(round(slope,2)) + \"x + \" + str(round(intercept,2))\n",
    "plt.scatter(x_values,y_values)\n",
    "plt.plot(x_values,regress_values,\"r-\")\n",
    "plt.annotate(line_eq,(0,50),fontsize=15,color=\"red\")\n",
    "plt.title(\"Southern Hemisphere - Humidity vs Latitude Linear Regression\")\n",
    "plt.xlabel(\"Latitude\")\n",
    "plt.ylabel(\"Humidity (%)\")\n",
    "print(f\"The r-squared is: {rvalue**2}\")\n",
    "plt.show()\n",
    "plt.savefig(\"../Images/Southern Hemisphere - Humidity vs Latitude Linear Regression.png\")"
   ]
  },
  {
   "cell_type": "markdown",
   "metadata": {},
   "source": [
    "####  Northern Hemisphere - Cloudiness (%) vs. Latitude Linear Regression"
   ]
  },
  {
   "cell_type": "code",
   "execution_count": 32,
   "metadata": {},
   "outputs": [
    {
     "name": "stdout",
     "output_type": "stream",
     "text": [
      "The r-squared is: 0.002954955620147504\n"
     ]
    },
    {
     "data": {
      "image/png": "[encoded data removed]",
      "text/plain": [
       "<Figure size 432x288 with 1 Axes>"
      ]
     },
     "metadata": {
      "needs_background": "light"
     },
     "output_type": "display_data"
    },
    {
     "data": {
      "text/plain": [
       "<Figure size 432x288 with 0 Axes>"
      ]
     },
     "metadata": {},
     "output_type": "display_data"
    }
   ],
   "source": [
    "x_values = northern_hemisphere[\"Lat\"]\n",
    "y_values = northern_hemisphere[\"Cloudiness\"]\n",
    "(slope, intercept, rvalue, pvalue, stderr) = linregress(x_values, y_values)\n",
    "regress_values = x_values * slope + intercept\n",
    "line_eq = \"y = \" + str(round(slope,2)) + \"x + \" + str(round(intercept,2))\n",
    "plt.scatter(x_values,y_values)\n",
    "plt.plot(x_values,regress_values,\"r-\")\n",
    "plt.annotate(line_eq,(20,60),fontsize=15,color=\"red\")\n",
    "plt.title(\"Northern Hemisphere - Cloudiness vs Latitude Linear Regression\")\n",
    "plt.xlabel(\"Latitude\")\n",
    "plt.ylabel(\"Cloudiness (%)\")\n",
    "print(f\"The r-squared is: {rvalue**2}\")\n",
    "plt.show()\n",
    "plt.savefig(\"../Images/Northern Hemisphere - Cloudiness(%) vs Latitude Linear Regression.png\")"
   ]
  },
  {
   "cell_type": "code",
   "execution_count": null,
   "metadata": {},
   "outputs": [],
   "source": []
  },
  {
   "cell_type": "markdown",
   "metadata": {},
   "source": [
    "####  Southern Hemisphere - Cloudiness (%) vs. Latitude Linear Regression"
   ]
  },
  {
   "cell_type": "code",
   "execution_count": 33,
   "metadata": {},
   "outputs": [
    {
     "name": "stdout",
     "output_type": "stream",
     "text": [
      "The r-squared is: 0.011365673348958133\n"
     ]
    },
    {
     "data": {
      "image/png": "[encoded data removed]",
      "text/plain": [
       "<Figure size 432x288 with 1 Axes>"
      ]
     },
     "metadata": {
      "needs_background": "light"
     },
     "output_type": "display_data"
    },
    {
     "data": {
      "text/plain": [
       "<Figure size 432x288 with 0 Axes>"
      ]
     },
     "metadata": {},
     "output_type": "display_data"
    }
   ],
   "source": [
    "x_values = southern_hemisphere[\"Lat\"]\n",
    "y_values = southern_hemisphere[\"Cloudiness\"]\n",
    "(slope, intercept, rvalue, pvalue, stderr) = linregress(x_values, y_values)\n",
    "regress_values = x_values * slope + intercept\n",
    "line_eq = \"y = \" + str(round(slope,2)) + \"x + \" + str(round(intercept,2))\n",
    "plt.scatter(x_values,y_values)\n",
    "plt.plot(x_values,regress_values,\"r-\")\n",
    "plt.annotate(line_eq,(-50,55),fontsize=15,color=\"red\")\n",
    "plt.title(\"Southern Hemisphere - Cloudiness vs Latitude Linear Regression\")\n",
    "plt.xlabel(\"Latitude\")\n",
    "plt.ylabel(\"Cloudiness (%)\")\n",
    "print(f\"The r-squared is: {rvalue**2}\")\n",
    "plt.show()\n",
    "plt.savefig(\"../Images/Southern Hemisphere - Cloudiness(%) vs Latitude Linear Regression.png\")"
   ]
  },
  {
   "cell_type": "markdown",
   "metadata": {},
   "source": [
    "####  Northern Hemisphere - Wind Speed (mph) vs. Latitude Linear Regression"
   ]
  },
  {
   "cell_type": "code",
   "execution_count": null,
   "metadata": {},
   "outputs": [],
   "source": []
  },
  {
   "cell_type": "code",
   "execution_count": 34,
   "metadata": {},
   "outputs": [
    {
     "name": "stdout",
     "output_type": "stream",
     "text": [
      "The r-squared is: 0.026069567795434834\n"
     ]
    },
    {
     "data": {
      "image/png": "[encoded data removed]",
      "text/plain": [
       "<Figure size 432x288 with 1 Axes>"
      ]
     },
     "metadata": {
      "needs_background": "light"
     },
     "output_type": "display_data"
    },
    {
     "data": {
      "text/plain": [
       "<Figure size 432x288 with 0 Axes>"
      ]
     },
     "metadata": {},
     "output_type": "display_data"
    }
   ],
   "source": [
    "x_values = northern_hemisphere[\"Lat\"]\n",
    "y_values = northern_hemisphere[\"Wind Speed\"]\n",
    "(slope, intercept, rvalue, pvalue, stderr) = linregress(x_values, y_values)\n",
    "regress_values = x_values * slope + intercept\n",
    "line_eq = \"y = \" + str(round(slope,2)) + \"x + \" + str(round(intercept,2))\n",
    "plt.scatter(x_values,y_values)\n",
    "plt.plot(x_values,regress_values,\"r-\")\n",
    "plt.annotate(line_eq,(30,25),fontsize=15,color=\"red\")\n",
    "plt.title(\"Northern Hemisphere - Wind Speed (mph) vs Latitude Linear Regression\")\n",
    "plt.xlabel(\"Latitude\")\n",
    "plt.ylabel(\"Wind Speed (mph)\")\n",
    "print(f\"The r-squared is: {rvalue**2}\")\n",
    "plt.show()\n",
    "plt.savefig(\"../Images/Northern Hemisphere - Wind Speed(mph) vs Latitude Linear Regression.png\")"
   ]
  },
  {
   "cell_type": "markdown",
   "metadata": {},
   "source": [
    "####  Southern Hemisphere - Wind Speed (mph) vs. Latitude Linear Regression"
   ]
  },
  {
   "cell_type": "code",
   "execution_count": 35,
   "metadata": {},
   "outputs": [
    {
     "name": "stdout",
     "output_type": "stream",
     "text": [
      "The r-squared is: 0.000660877005283737\n"
     ]
    },
    {
     "data": {
      "image/png": "[encoded data removed]",
      "text/plain": [
       "<Figure size 432x288 with 1 Axes>"
      ]
     },
     "metadata": {
      "needs_background": "light"
     },
     "output_type": "display_data"
    },
    {
     "data": {
      "text/plain": [
       "<Figure size 432x288 with 0 Axes>"
      ]
     },
     "metadata": {},
     "output_type": "display_data"
    }
   ],
   "source": [
    "x_values = southern_hemisphere[\"Lat\"]\n",
    "y_values = southern_hemisphere[\"Wind Speed\"]\n",
    "(slope, intercept, rvalue, pvalue, stderr) = linregress(x_values, y_values)\n",
    "regress_values = x_values * slope + intercept\n",
    "line_eq = \"y = \" + str(round(slope,2)) + \"x + \" + str(round(intercept,2))\n",
    "plt.scatter(x_values,y_values)\n",
    "plt.plot(x_values,regress_values,\"r-\")\n",
    "plt.annotate(line_eq,(-40,20),fontsize=15,color=\"red\")\n",
    "plt.title(\"Southern Hemisphere - Wind Speed (mph) vs Latitude Linear Regression\")\n",
    "plt.xlabel(\"Latitude\")\n",
    "plt.ylabel(\"Wind Speed (mph)\")\n",
    "print(f\"The r-squared is: {rvalue**2}\")\n",
    "plt.show()\n",
    "plt.savefig(\"../Images/Southern Hemisphere - Wind Speed(mph) vs Latitude Linear Regression.png\")"
   ]
  },
  {
   "cell_type": "code",
   "execution_count": null,
   "metadata": {},
   "outputs": [],
   "source": []
  },
  {
   "cell_type": "code",
   "execution_count": null,
   "metadata": {},
   "outputs": [],
   "source": []
  }
 ],
 "metadata": {
  "anaconda-cloud": {},
  "kernel_info": {
   "name": "python3"
  },
  "kernelspec": {
   "display_name": "Python 3",
   "language": "python",
   "name": "python3"
  },
  "language_info": {
   "codemirror_mode": {
    "name": "ipython",
    "version": 3
   },
   "file_extension": ".py",
   "mimetype": "text/x-python",
   "name": "python",
   "nbconvert_exporter": "python",
   "pygments_lexer": "ipython3",
   "version": "3.6.10"
  },
  "latex_envs": {
   "LaTeX_envs_menu_present": true,
   "autoclose": false,
   "autocomplete": true,
   "bibliofile": "biblio.bib",
   "cite_by": "apalike",
   "current_citInitial": 1,
   "eqLabelWithNumbers": true,
   "eqNumInitial": 1,
   "hotkeys": {
    "equation": "Ctrl-E",
    "itemize": "Ctrl-I"
   },
   "labels_anchors": false,
   "latex_user_defs": false,
   "report_style_numbering": false,
   "user_envs_cfg": false
  },
  "nteract": {
   "version": "0.12.3"
  }
 },
 "nbformat": 4,
 "nbformat_minor": 2
}
